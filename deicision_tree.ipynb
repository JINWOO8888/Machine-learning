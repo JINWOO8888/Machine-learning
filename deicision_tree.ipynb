{
 "cells": [
  {
   "cell_type": "code",
   "execution_count": 1,
   "metadata": {},
   "outputs": [],
   "source": [
    "import pandas as pd\n",
    "from sklearn.model_selection import train_test_split\n",
    "from sklearn.tree import DecisionTreeClassifier\n",
    "from sklearn.metrics import accuracy_score, classification_report\n",
    "import pickle\n"
   ]
  },
  {
   "cell_type": "code",
   "execution_count": 3,
   "metadata": {},
   "outputs": [],
   "source": [
    "Products = pd.read_csv(r'/Users/yujin-u/Desktop/model/products_no_china_no_token_v4.csv')"
   ]
  },
  {
   "cell_type": "code",
   "execution_count": 21,
   "metadata": {},
   "outputs": [
    {
     "data": {
      "text/plain": [
       "(70, 4)"
      ]
     },
     "execution_count": 21,
     "metadata": {},
     "output_type": "execute_result"
    }
   ],
   "source": [
    "Products.shape"
   ]
  },
  {
   "cell_type": "code",
   "execution_count": 5,
   "metadata": {},
   "outputs": [],
   "source": [
    "df_0 = Products[Products['judge'] == 0].sample(n=40000, random_state=42)\n",
    "df_1 = Products[Products['judge'] == 1].sample(n=60000, random_state=42)\n",
    "\n",
    "# Concatenate the DataFrames\n",
    "new_df = pd.concat([df_0, df_1])"
   ]
  },
  {
   "cell_type": "code",
   "execution_count": 6,
   "metadata": {},
   "outputs": [],
   "source": [
    "y = new_df['judge']"
   ]
  },
  {
   "cell_type": "code",
   "execution_count": 7,
   "metadata": {},
   "outputs": [],
   "source": [
    "y = pd.DataFrame(y)"
   ]
  },
  {
   "cell_type": "code",
   "execution_count": 8,
   "metadata": {},
   "outputs": [],
   "source": [
    "df1 = []"
   ]
  },
  {
   "cell_type": "code",
   "execution_count": 9,
   "metadata": {},
   "outputs": [],
   "source": [
    "df1 = pd.DataFrame(df1)"
   ]
  },
  {
   "cell_type": "code",
   "execution_count": 10,
   "metadata": {},
   "outputs": [],
   "source": [
    "def string_to_list(input_string):\n",
    "    # 문자열을 rhdqor()를 기준으로 나누어 리스트로 변환\n",
    "    return str(input_string).split(' ')\n",
    "\n",
    "df1['CATALOG_DESC'] = new_df['CATALOG_DESC'].apply(string_to_list)\n",
    "df1['CATALOG_NM'] = new_df['CATALOG_NM'].apply(string_to_list)"
   ]
  },
  {
   "cell_type": "code",
   "execution_count": 11,
   "metadata": {},
   "outputs": [
    {
     "name": "stdout",
     "output_type": "stream",
     "text": [
      "Training Set Accuracy: 0.98\n",
      "Validation Set Accuracy: 0.80\n",
      "Test Set Accuracy: 0.79\n",
      "The model may be overfitting as it performs better on the training set.\n"
     ]
    }
   ],
   "source": [
    "from sklearn.feature_extraction.text import TfidfVectorizer\n",
    "from sklearn.model_selection import train_test_split\n",
    "from sklearn.tree import DecisionTreeClassifier\n",
    "from sklearn.metrics import accuracy_score, classification_report\n",
    "import joblib\n",
    "\n",
    "# Combine the elements of lists into a single string\n",
    "df1['combined_text'] = df1['CATALOG_DESC'].apply(lambda x: ' '.join(map(str, x))) + ' ' + df1['CATALOG_NM'].apply(lambda x: ' '.join(map(str, x)))\n",
    "\n",
    "# Split data into training, validation, and testing sets\n",
    "X_train, X_temp, y_train, y_temp = train_test_split(df1['combined_text'], y, test_size=0.3, random_state=42)\n",
    "X_val, X_test, y_val, y_test = train_test_split(X_temp, y_temp, test_size=0.5, random_state=42)\n",
    "\n",
    "# TF-IDF Vectorization\n",
    "tfidf_vectorizer = TfidfVectorizer()\n",
    "X_train_tfidf = tfidf_vectorizer.fit_transform(X_train)\n",
    "X_val_tfidf = tfidf_vectorizer.transform(X_val)\n",
    "X_test_tfidf = tfidf_vectorizer.transform(X_test)\n",
    "\n",
    "# Save TF-IDF vectorizer to the notebook directory\n",
    "joblib.dump(tfidf_vectorizer, 'tfidf_vectorizer.joblib')\n",
    "\n",
    "# Create and train the Decision Tree model\n",
    "model = DecisionTreeClassifier(random_state=42)\n",
    "model.fit(X_train_tfidf, y_train)\n",
    "\n",
    "# Make predictions on the training set\n",
    "y_train_pred = model.predict(X_train_tfidf)\n",
    "\n",
    "# Make predictions on the validation set\n",
    "y_val_pred = model.predict(X_val_tfidf)\n",
    "\n",
    "# Make predictions on the test set\n",
    "y_test_pred = model.predict(X_test_tfidf)\n",
    "\n",
    "# Evaluate the model on training set\n",
    "accuracy_train = accuracy_score(y_train, y_train_pred)\n",
    "print(f'Training Set Accuracy: {accuracy_train:.2f}')\n",
    "\n",
    "# Evaluate the model on validation set\n",
    "accuracy_val = accuracy_score(y_val, y_val_pred)\n",
    "print(f'Validation Set Accuracy: {accuracy_val:.2f}')\n",
    "\n",
    "# Evaluate the model on test set\n",
    "accuracy_test = accuracy_score(y_test, y_test_pred)\n",
    "print(f'Test Set Accuracy: {accuracy_test:.2f}')\n",
    "\n",
    "# Check for overfitting\n",
    "if accuracy_train > accuracy_val:\n",
    "    print(\"The model may be overfitting as it performs better on the training set.\")\n",
    "else:\n",
    "    print(\"The model is not showing signs of overfitting.\")"
   ]
  },
  {
   "cell_type": "code",
   "execution_count": 30,
   "metadata": {},
   "outputs": [],
   "source": [
    "import seaborn as sns"
   ]
  },
  {
   "cell_type": "code",
   "execution_count": 31,
   "metadata": {},
   "outputs": [
    {
     "name": "stderr",
     "output_type": "stream",
     "text": [
      "/Library/Frameworks/Python.framework/Versions/3.11/lib/python3.11/site-packages/sklearn/metrics/_classification.py:1471: UndefinedMetricWarning: Precision and F-score are ill-defined and being set to 0.0 in labels with no predicted samples. Use `zero_division` parameter to control this behavior.\n",
      "  _warn_prf(average, modifier, msg_start, len(result))\n",
      "/Library/Frameworks/Python.framework/Versions/3.11/lib/python3.11/site-packages/sklearn/metrics/_classification.py:1471: UndefinedMetricWarning: Precision and F-score are ill-defined and being set to 0.0 in labels with no predicted samples. Use `zero_division` parameter to control this behavior.\n",
      "  _warn_prf(average, modifier, msg_start, len(result))\n",
      "/Library/Frameworks/Python.framework/Versions/3.11/lib/python3.11/site-packages/sklearn/metrics/_classification.py:1471: UndefinedMetricWarning: Precision and F-score are ill-defined and being set to 0.0 in labels with no predicted samples. Use `zero_division` parameter to control this behavior.\n",
      "  _warn_prf(average, modifier, msg_start, len(result))\n",
      "/Library/Frameworks/Python.framework/Versions/3.11/lib/python3.11/site-packages/sklearn/metrics/_classification.py:1471: UndefinedMetricWarning: Precision and F-score are ill-defined and being set to 0.0 in labels with no predicted samples. Use `zero_division` parameter to control this behavior.\n",
      "  _warn_prf(average, modifier, msg_start, len(result))\n",
      "/Library/Frameworks/Python.framework/Versions/3.11/lib/python3.11/site-packages/sklearn/metrics/_classification.py:1471: UndefinedMetricWarning: Precision and F-score are ill-defined and being set to 0.0 in labels with no predicted samples. Use `zero_division` parameter to control this behavior.\n",
      "  _warn_prf(average, modifier, msg_start, len(result))\n",
      "/Library/Frameworks/Python.framework/Versions/3.11/lib/python3.11/site-packages/sklearn/metrics/_classification.py:1471: UndefinedMetricWarning: Precision and F-score are ill-defined and being set to 0.0 in labels with no predicted samples. Use `zero_division` parameter to control this behavior.\n",
      "  _warn_prf(average, modifier, msg_start, len(result))\n"
     ]
    },
    {
     "name": "stdout",
     "output_type": "stream",
     "text": [
      "              precision    recall  f1-score   support\n",
      "\n",
      "     Class 0       0.00      0.00      0.00        49\n",
      "     Class 1       0.59      1.00      0.74        70\n",
      "\n",
      "    accuracy                           0.59       119\n",
      "   macro avg       0.29      0.50      0.37       119\n",
      "weighted avg       0.35      0.59      0.44       119\n",
      "\n"
     ]
    },
    {
     "data": {
      "image/png": "[encoded data removed]",
      "text/plain": [
       "<Figure size 1200x400 with 3 Axes>"
      ]
     },
     "metadata": {},
     "output_type": "display_data"
    }
   ],
   "source": [
    "# 필요한 라이브러리 import\n",
    "import matplotlib.pyplot as plt\n",
    "from yellowbrick.classifier import ROCAUC, ConfusionMatrix, ClassificationReport\n",
    "from sklearn.metrics import roc_curve, auc\n",
    "\n",
    "y_pred = y_test_df_pred\n",
    "\n",
    "# ROC 곡선 계산\n",
    "fpr, tpr, ypr = roc_curve(y_test, y_pred)\n",
    "\n",
    "# 그래프 그리기\n",
    "plt.figure(figsize=(12, 4))\n",
    "plt.subplot(1, 3, 1)\n",
    "plt.plot([0, 1], [0, 1], linestyle='--', color='gray')  # 랜덤 모델의 ROC 곡선\n",
    "plt.plot(fpr, tpr, marker='.')\n",
    "plt.title('ROC Curve')\n",
    "plt.xlabel('False Positive Rate')\n",
    "plt.ylabel('True Positive Rate')\n",
    "\n",
    "# Confusion Matrix 시각화\n",
    "plt.subplot(1, 3, 2)\n",
    "cm = confusion_matrix(y_test, (y_pred > 0.5).astype(int))\n",
    "sns.heatmap(cm, annot=True, fmt='d', cmap='Blues', cbar=False)\n",
    "plt.title('Confusion Matrix')\n",
    "plt.xlabel('Predicted')\n",
    "plt.ylabel('True')\n",
    "\n",
    "# Classification Report 시각화\n",
    "plt.subplot(1, 3, 3)\n",
    "classification_rep = classification_report(y_test, (y_pred > 0.5).astype(int), target_names=['Class 0', 'Class 1'])\n",
    "print(classification_rep)\n",
    "sns.heatmap(pd.DataFrame.from_dict(classification_report(y_test, (y_pred > 0.5).astype(int), output_dict=True)).iloc[:-1, :].T, annot=True, cmap='Blues', cbar=False)\n",
    "plt.title('Classification Report')\n",
    "\n",
    "# 각 시각화를 한 번에 보여주기\n",
    "plt.tight_layout()\n",
    "plt.show()"
   ]
  },
  {
   "cell_type": "code",
   "execution_count": 12,
   "metadata": {},
   "outputs": [
    {
     "name": "stdout",
     "output_type": "stream",
     "text": [
      "Confusion Matrix:\n",
      "[[4522 1444]\n",
      " [1633 7401]]\n"
     ]
    }
   ],
   "source": [
    "from sklearn.metrics import confusion_matrix\n",
    "\n",
    "# Confusion matrix for the test set\n",
    "conf_matrix = confusion_matrix(y_test, y_test_pred)\n",
    "print(\"Confusion Matrix:\")\n",
    "print(conf_matrix)"
   ]
  },
  {
   "cell_type": "code",
   "execution_count": 13,
   "metadata": {},
   "outputs": [],
   "source": [
    "test_df = pd.read_csv(r'/Users/yujin-u/Desktop/model/test_data_v4.csv')"
   ]
  },
  {
   "cell_type": "code",
   "execution_count": 14,
   "metadata": {},
   "outputs": [
    {
     "data": {
      "text/html": [
       "<div>\n",
       "<style scoped>\n",
       "    .dataframe tbody tr th:only-of-type {\n",
       "        vertical-align: middle;\n",
       "    }\n",
       "\n",
       "    .dataframe tbody tr th {\n",
       "        vertical-align: top;\n",
       "    }\n",
       "\n",
       "    .dataframe thead th {\n",
       "        text-align: right;\n",
       "    }\n",
       "</style>\n",
       "<table border=\"1\" class=\"dataframe\">\n",
       "  <thead>\n",
       "    <tr style=\"text-align: right;\">\n",
       "      <th></th>\n",
       "      <th>Unnamed: 0</th>\n",
       "      <th>CATALOG_NM</th>\n",
       "      <th>CATALOG_DESC</th>\n",
       "      <th>judge</th>\n",
       "    </tr>\n",
       "  </thead>\n",
       "  <tbody>\n",
       "    <tr>\n",
       "      <th>0</th>\n",
       "      <td>0</td>\n",
       "      <td>CS CELERSPORT 6 Pairs Ankle Athletic Running S...</td>\n",
       "      <td>Product details\\nFabric type88.3% Combed Cotto...</td>\n",
       "      <td>1</td>\n",
       "    </tr>\n",
       "    <tr>\n",
       "      <th>1</th>\n",
       "      <td>1</td>\n",
       "      <td>Apple AirPods (2nd Generation) Wireless Ear Bu...</td>\n",
       "      <td>HIGH-QUALITY SOUND — Powered by the Apple H1 h...</td>\n",
       "      <td>0</td>\n",
       "    </tr>\n",
       "    <tr>\n",
       "      <th>2</th>\n",
       "      <td>2</td>\n",
       "      <td>Home Office Chair Ergonomic Desk Chair Mesh Co...</td>\n",
       "      <td>Brand\\tBestOffice\\nColor\\tBlack\\nProduct Dimen...</td>\n",
       "      <td>1</td>\n",
       "    </tr>\n",
       "    <tr>\n",
       "      <th>3</th>\n",
       "      <td>3</td>\n",
       "      <td>Magnesium Sulfate Anhydrous</td>\n",
       "      <td>MAGNESIUM SULFATE ANHYDROUS CAS NO.:14168-73-1...</td>\n",
       "      <td>1</td>\n",
       "    </tr>\n",
       "    <tr>\n",
       "      <th>4</th>\n",
       "      <td>4</td>\n",
       "      <td>BANDAI NAMCO Entertainment Armored Core VI: Fi...</td>\n",
       "      <td>A new action experience from the makers of Dar...</td>\n",
       "      <td>0</td>\n",
       "    </tr>\n",
       "  </tbody>\n",
       "</table>\n",
       "</div>"
      ],
      "text/plain": [
       "   Unnamed: 0                                         CATALOG_NM  \\\n",
       "0           0  CS CELERSPORT 6 Pairs Ankle Athletic Running S...   \n",
       "1           1  Apple AirPods (2nd Generation) Wireless Ear Bu...   \n",
       "2           2  Home Office Chair Ergonomic Desk Chair Mesh Co...   \n",
       "3           3                        Magnesium Sulfate Anhydrous   \n",
       "4           4  BANDAI NAMCO Entertainment Armored Core VI: Fi...   \n",
       "\n",
       "                                        CATALOG_DESC  judge  \n",
       "0  Product details\\nFabric type88.3% Combed Cotto...      1  \n",
       "1  HIGH-QUALITY SOUND — Powered by the Apple H1 h...      0  \n",
       "2  Brand\\tBestOffice\\nColor\\tBlack\\nProduct Dimen...      1  \n",
       "3  MAGNESIUM SULFATE ANHYDROUS CAS NO.:14168-73-1...      1  \n",
       "4  A new action experience from the makers of Dar...      0  "
      ]
     },
     "execution_count": 14,
     "metadata": {},
     "output_type": "execute_result"
    }
   ],
   "source": [
    "test_df.head()"
   ]
  },
  {
   "cell_type": "code",
   "execution_count": 15,
   "metadata": {},
   "outputs": [],
   "source": [
    "y_test = test_df['judge']"
   ]
  },
  {
   "cell_type": "code",
   "execution_count": 16,
   "metadata": {},
   "outputs": [],
   "source": [
    "y_test = pd.DataFrame(y_test)"
   ]
  },
  {
   "cell_type": "code",
   "execution_count": 17,
   "metadata": {},
   "outputs": [],
   "source": [
    "# Load the saved TF-IDF vectorizer\n",
    "tfidf_vectorizer = joblib.load('/Users/yujin-u/Desktop/model/tfidf_vectorizer.joblib')\n",
    "\n",
    "test_df['combined_text'] = (\n",
    "    test_df['CATALOG_DESC'].apply(lambda x: ' '.join(map(str, x)) if isinstance(x, list) else '')\n",
    "    + ' ' +\n",
    "    test_df['CATALOG_NM'].apply(lambda x: ' '.join(map(str, x)) if isinstance(x, list) else '')\n",
    ")\n",
    "\n",
    "# TF-IDF Vectorization for the new data\n",
    "X_test_df_tfidf = tfidf_vectorizer.transform(test_df['combined_text'])\n",
    "\n",
    "# Make predictions on the new data\n",
    "y_test_df_pred = model.predict(X_test_df_tfidf)"
   ]
  },
  {
   "cell_type": "code",
   "execution_count": 18,
   "metadata": {},
   "outputs": [
    {
     "name": "stdout",
     "output_type": "stream",
     "text": [
      "Predictions on test_df with threshold 0.7:\n",
      "     Actual  Predicted\n",
      "0         1          1\n",
      "1         0          1\n",
      "2         1          1\n",
      "3         1          1\n",
      "4         0          1\n",
      "..      ...        ...\n",
      "114       1          1\n",
      "115       1          1\n",
      "116       1          1\n",
      "117       1          1\n",
      "118       1          1\n",
      "\n",
      "[119 rows x 2 columns]\n"
     ]
    }
   ],
   "source": [
    "tfidf_vectorizer = joblib.load('/Users/yujin-u/Desktop/model/tfidf_vectorizer.joblib')\n",
    "\n",
    "test_df['combined_text'] = (\n",
    "    test_df['CATALOG_DESC'].apply(lambda x: ' '.join(map(str, x)) if isinstance(x, list) else '')\n",
    "    + ' ' +\n",
    "    test_df['CATALOG_NM'].apply(lambda x: ' '.join(map(str, x)) if isinstance(x, list) else '')\n",
    ")\n",
    "\n",
    "# TF-IDF Vectorization for the new data\n",
    "X_test_df_tfidf = tfidf_vectorizer.transform(test_df['combined_text'])\n",
    "\n",
    "# Get predicted probabilities for each class\n",
    "y_test_df_probabilities = model.predict_proba(X_test_df_tfidf)\n",
    "\n",
    "# Apply threshold of 0.7\n",
    "threshold = 0.7\n",
    "y_test_df_pred = (y_test_df_probabilities[:, 1] > threshold).astype(int)\n",
    "\n",
    "# Compare predictions with the actual target values\n",
    "test_df_results = pd.DataFrame({'Actual': test_df['judge'], 'Predicted': y_test_df_pred})\n",
    "print(\"Predictions on test_df with threshold 0.7:\")\n",
    "print(test_df_results)"
   ]
  },
  {
   "cell_type": "code",
   "execution_count": 19,
   "metadata": {},
   "outputs": [
    {
     "data": {
      "text/html": [
       "<div>\n",
       "<style scoped>\n",
       "    .dataframe tbody tr th:only-of-type {\n",
       "        vertical-align: middle;\n",
       "    }\n",
       "\n",
       "    .dataframe tbody tr th {\n",
       "        vertical-align: top;\n",
       "    }\n",
       "\n",
       "    .dataframe thead th {\n",
       "        text-align: right;\n",
       "    }\n",
       "</style>\n",
       "<table border=\"1\" class=\"dataframe\">\n",
       "  <thead>\n",
       "    <tr style=\"text-align: right;\">\n",
       "      <th></th>\n",
       "      <th>Actual</th>\n",
       "      <th>Predicted</th>\n",
       "    </tr>\n",
       "  </thead>\n",
       "  <tbody>\n",
       "    <tr>\n",
       "      <th>0</th>\n",
       "      <td>1</td>\n",
       "      <td>1</td>\n",
       "    </tr>\n",
       "    <tr>\n",
       "      <th>1</th>\n",
       "      <td>0</td>\n",
       "      <td>1</td>\n",
       "    </tr>\n",
       "    <tr>\n",
       "      <th>2</th>\n",
       "      <td>1</td>\n",
       "      <td>1</td>\n",
       "    </tr>\n",
       "    <tr>\n",
       "      <th>3</th>\n",
       "      <td>1</td>\n",
       "      <td>1</td>\n",
       "    </tr>\n",
       "    <tr>\n",
       "      <th>4</th>\n",
       "      <td>0</td>\n",
       "      <td>1</td>\n",
       "    </tr>\n",
       "    <tr>\n",
       "      <th>5</th>\n",
       "      <td>0</td>\n",
       "      <td>1</td>\n",
       "    </tr>\n",
       "    <tr>\n",
       "      <th>6</th>\n",
       "      <td>1</td>\n",
       "      <td>1</td>\n",
       "    </tr>\n",
       "    <tr>\n",
       "      <th>7</th>\n",
       "      <td>1</td>\n",
       "      <td>1</td>\n",
       "    </tr>\n",
       "    <tr>\n",
       "      <th>8</th>\n",
       "      <td>0</td>\n",
       "      <td>1</td>\n",
       "    </tr>\n",
       "    <tr>\n",
       "      <th>9</th>\n",
       "      <td>0</td>\n",
       "      <td>1</td>\n",
       "    </tr>\n",
       "    <tr>\n",
       "      <th>10</th>\n",
       "      <td>0</td>\n",
       "      <td>1</td>\n",
       "    </tr>\n",
       "    <tr>\n",
       "      <th>11</th>\n",
       "      <td>0</td>\n",
       "      <td>1</td>\n",
       "    </tr>\n",
       "    <tr>\n",
       "      <th>12</th>\n",
       "      <td>0</td>\n",
       "      <td>1</td>\n",
       "    </tr>\n",
       "    <tr>\n",
       "      <th>13</th>\n",
       "      <td>0</td>\n",
       "      <td>1</td>\n",
       "    </tr>\n",
       "    <tr>\n",
       "      <th>14</th>\n",
       "      <td>0</td>\n",
       "      <td>1</td>\n",
       "    </tr>\n",
       "    <tr>\n",
       "      <th>15</th>\n",
       "      <td>1</td>\n",
       "      <td>1</td>\n",
       "    </tr>\n",
       "    <tr>\n",
       "      <th>16</th>\n",
       "      <td>1</td>\n",
       "      <td>1</td>\n",
       "    </tr>\n",
       "    <tr>\n",
       "      <th>17</th>\n",
       "      <td>1</td>\n",
       "      <td>1</td>\n",
       "    </tr>\n",
       "    <tr>\n",
       "      <th>18</th>\n",
       "      <td>0</td>\n",
       "      <td>1</td>\n",
       "    </tr>\n",
       "    <tr>\n",
       "      <th>19</th>\n",
       "      <td>0</td>\n",
       "      <td>1</td>\n",
       "    </tr>\n",
       "    <tr>\n",
       "      <th>20</th>\n",
       "      <td>1</td>\n",
       "      <td>1</td>\n",
       "    </tr>\n",
       "    <tr>\n",
       "      <th>21</th>\n",
       "      <td>1</td>\n",
       "      <td>1</td>\n",
       "    </tr>\n",
       "    <tr>\n",
       "      <th>22</th>\n",
       "      <td>0</td>\n",
       "      <td>1</td>\n",
       "    </tr>\n",
       "    <tr>\n",
       "      <th>23</th>\n",
       "      <td>1</td>\n",
       "      <td>1</td>\n",
       "    </tr>\n",
       "    <tr>\n",
       "      <th>24</th>\n",
       "      <td>1</td>\n",
       "      <td>1</td>\n",
       "    </tr>\n",
       "    <tr>\n",
       "      <th>25</th>\n",
       "      <td>0</td>\n",
       "      <td>1</td>\n",
       "    </tr>\n",
       "    <tr>\n",
       "      <th>26</th>\n",
       "      <td>0</td>\n",
       "      <td>1</td>\n",
       "    </tr>\n",
       "    <tr>\n",
       "      <th>27</th>\n",
       "      <td>1</td>\n",
       "      <td>1</td>\n",
       "    </tr>\n",
       "    <tr>\n",
       "      <th>28</th>\n",
       "      <td>1</td>\n",
       "      <td>1</td>\n",
       "    </tr>\n",
       "    <tr>\n",
       "      <th>29</th>\n",
       "      <td>0</td>\n",
       "      <td>1</td>\n",
       "    </tr>\n",
       "  </tbody>\n",
       "</table>\n",
       "</div>"
      ],
      "text/plain": [
       "    Actual  Predicted\n",
       "0        1          1\n",
       "1        0          1\n",
       "2        1          1\n",
       "3        1          1\n",
       "4        0          1\n",
       "5        0          1\n",
       "6        1          1\n",
       "7        1          1\n",
       "8        0          1\n",
       "9        0          1\n",
       "10       0          1\n",
       "11       0          1\n",
       "12       0          1\n",
       "13       0          1\n",
       "14       0          1\n",
       "15       1          1\n",
       "16       1          1\n",
       "17       1          1\n",
       "18       0          1\n",
       "19       0          1\n",
       "20       1          1\n",
       "21       1          1\n",
       "22       0          1\n",
       "23       1          1\n",
       "24       1          1\n",
       "25       0          1\n",
       "26       0          1\n",
       "27       1          1\n",
       "28       1          1\n",
       "29       0          1"
      ]
     },
     "execution_count": 19,
     "metadata": {},
     "output_type": "execute_result"
    }
   ],
   "source": [
    "test_df_results.head(30)"
   ]
  }
 ],
 "metadata": {
  "kernelspec": {
   "display_name": "Python 3",
   "language": "python",
   "name": "python3"
  },
  "language_info": {
   "codemirror_mode": {
    "name": "ipython",
    "version": 3
   },
   "file_extension": ".py",
   "mimetype": "text/x-python",
   "name": "python",
   "nbconvert_exporter": "python",
   "pygments_lexer": "ipython3",
   "version": "3.11.7"
  }
 },
 "nbformat": 4,
 "nbformat_minor": 2
}
